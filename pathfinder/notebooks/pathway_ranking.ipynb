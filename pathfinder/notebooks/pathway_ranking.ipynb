{
 "cells": [
  {
   "cell_type": "code",
   "execution_count": null,
   "metadata": {},
   "outputs": [],
   "source": [
    "import sys\n",
    "sys.path.append('../')\n",
    "\n",
    "import pandas as pd\n",
    "import cobra\n",
    "import re\n",
    "\n",
    "# Load heterologous reactions\n",
    "# df = pd.read_csv('../results/C00024_C06142_metabolites_reactions.csv')\n",
    "df = pd.read_csv('../results/C00084_C06142_metabolites_reactions.csv')\n",
    "\n",
    "# Load GSMM\n",
    "model = cobra.io.load_json_model('../data/original/e_coli_core.json')\n",
    "\n",
    "# Impose anaerobic conditions\n",
    "model.reactions.get_by_id('EX_o2_e').bounds = (0, 1000)\n",
    "\n",
    "# Print number of reactions and metabolites in the model\n",
    "print('Number of reactions:', len(model.reactions))\n",
    "print('Number of metabolites:', len(model.metabolites))"
   ]
  },
  {
   "cell_type": "code",
   "execution_count": null,
   "metadata": {},
   "outputs": [],
   "source": [
    "# Add new line to df using pd.concat\n",
    "df = df.append({'Reaction': 'R_ex', 'Equation': 'C06142 --> C06142_e'}, ignore_index=True)\n",
    "df = df.append({'Reaction': 'EX_1btol', 'Equation': 'C06142_e -->'}, ignore_index=True)"
   ]
  },
  {
   "cell_type": "code",
   "execution_count": null,
   "metadata": {},
   "outputs": [],
   "source": [
    "# Add metabolites to the model\n",
    "# Extract the metabolites from the equation\n",
    "def get_metabolites_to_add_to_GEM(df: pd.DataFrame) -> list:\n",
    "    mapping_table=str.maketrans({'-':'','+':'', '>':'','<':''})\n",
    "    metabolites=[]\n",
    "    for i in df.index:\n",
    "        dummy= str(df.loc[i]['Equation'])\n",
    "        dummy=dummy.translate(mapping_table)\n",
    "        dummy=dummy.split()\n",
    "        for e in dummy:\n",
    "            if len(e)>2:\n",
    "                metabolites.append(e)\n",
    "\n",
    "    metabolites = list(set(metabolites))\n",
    "    return metabolites\n",
    "\n",
    "metabolites = get_metabolites_to_add_to_GEM(df)\n",
    "\n",
    "# Add metabolites to the model\n",
    "for m in metabolites:\n",
    "    if m not in model.metabolites:\n",
    "        model.add_metabolites([cobra.Metabolite(m, compartment='c')])\n",
    "\n",
    "print('Number of metabolites:', len(model.metabolites))\n",
    "\n",
    "for i in range(len(df)):\n",
    "    reaction = cobra.Reaction(df['Reaction'].iloc[i])\n",
    "    model.add_reactions([reaction])\n",
    "    model.reactions.get_by_id(df['Reaction'].iloc[i]).reaction = df['Equation'].iloc[i]\n",
    "    # model.reactions.get_by_id(df['Reaction'].iloc[i]).bounds = (-1000, 1000)\n",
    "\n",
    "model.metabolites.get_by_id('C06142_e').compartment='e'     \n",
    "# model.reactions.get_by_id('EX_1btol').bounds = (-1000, 0)\n",
    "\n",
    "print('Number of reactions:', len(model.reactions))\n",
    "\n",
    "for r in df['Reaction']:\n",
    "    print(model.reactions.get_by_id(r))\n"
   ]
  },
  {
   "cell_type": "code",
   "execution_count": null,
   "metadata": {},
   "outputs": [],
   "source": [
    "model.objective='EX_1btol'\n",
    "solution=model.optimize()\n",
    "the_yield=\"{:.0%}\".format(solution.objective_value/abs(model.reactions.EX_glc__D_e.lower_bound))\n",
    "print('The theoretical yield', the_yield)\n",
    "print(solution)"
   ]
  },
  {
   "cell_type": "code",
   "execution_count": null,
   "metadata": {},
   "outputs": [],
   "source": [
    "from cobra.flux_analysis import flux_variability_analysis\n",
    "\n",
    "model.objective = model.reactions.get_by_id('BIOMASS_Ecoli_core_w_GAM')\n",
    "# model.objective = model.reactions.get_by_id('EX_1btol')\n",
    "flux_variability_analysis(model, fraction_of_optimum=0.8)"
   ]
  }
 ],
 "metadata": {
  "kernelspec": {
   "display_name": "main-bio",
   "language": "python",
   "name": "python3"
  },
  "language_info": {
   "codemirror_mode": {
    "name": "ipython",
    "version": 3
   },
   "file_extension": ".py",
   "mimetype": "text/x-python",
   "name": "python",
   "nbconvert_exporter": "python",
   "pygments_lexer": "ipython3",
   "version": "3.10.12"
  }
 },
 "nbformat": 4,
 "nbformat_minor": 2
}
