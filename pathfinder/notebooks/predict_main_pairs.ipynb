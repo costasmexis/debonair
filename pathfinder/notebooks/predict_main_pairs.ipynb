{
 "cells": [
  {
   "cell_type": "markdown",
   "metadata": {},
   "source": [
    "Trying to predict if a pair of compounds is a MAIN pair"
   ]
  },
  {
   "cell_type": "code",
   "execution_count": null,
   "metadata": {},
   "outputs": [],
   "source": [
    "import pandas as pd\n",
    "import numpy as np\n",
    "\n",
    "df = pd.read_csv('../data/pairs_final_RPAIRS_smiles.csv', index_col=0)\n",
    "\n",
    "# keep rows with 'RPAIR_main' !=2\n",
    "df_train = df[df['RPAIR_main'] != 2]\n",
    "df_test = df[df['RPAIR_main'] == 2]\n",
    "\n",
    "print(f'Train: {df_train.shape}, Test: {df_test.shape} \\n')\n",
    "\n",
    "# count values in 'RPAIR_main'\n",
    "print('RPAIR value counts:', df_train['RPAIR_main'].value_counts(normalize=True).round(2))"
   ]
  },
  {
   "cell_type": "code",
   "execution_count": null,
   "metadata": {},
   "outputs": [],
   "source": [
    "# split df_train to X and y\n",
    "X = df_train.drop('RPAIR_main', axis=1)\n",
    "y = df_train['RPAIR_main'].copy()\n",
    "\n",
    "# split df_train into train and validation\n",
    "from sklearn.model_selection import train_test_split\n",
    "\n",
    "X_train, X_val, y_train, y_val = train_test_split(X, y, test_size=0.20, stratify=y, random_state=42)\n",
    "\n",
    "print(X_train.shape, X_val.shape, y_train.shape, y_val.shape)"
   ]
  },
  {
   "cell_type": "code",
   "execution_count": null,
   "metadata": {},
   "outputs": [],
   "source": [
    "from sklearn.ensemble import RandomForestClassifier\n",
    "import xgboost as xgb\n",
    "from sklearn.model_selection import RandomizedSearchCV\n",
    "from sklearn.metrics import accuracy_score\n",
    "\n",
    "def forest(X_train, y_train, X_val, y_val):\n",
    "    param_grid = {\n",
    "        'n_estimators': [50, 100, 200, 300],\n",
    "        'max_depth': [10, 20, 30, 40, 50, 60, 70, 80, 90, 100],\n",
    "        'min_samples_split': [2, 5, 10],\n",
    "        'min_samples_leaf': [1, 2, 4],\n",
    "        'bootstrap': [True, False]\n",
    "    }\n",
    "\n",
    "    rf_clf = RandomForestClassifier(random_state=42)\n",
    "    rf_random = RandomizedSearchCV(estimator=rf_clf, param_distributions=param_grid, n_iter=10, cv=3, verbose=1,\n",
    "                                    random_state=42, n_jobs=-1)\n",
    "    rf_random.fit(X_train, y_train)\n",
    "\n",
    "    # evaluate the best model\n",
    "    best_model = rf_random.best_estimator_\n",
    "    y_pred = best_model.predict(X_val)\n",
    "    accuracy_score(y_val, y_pred)\n",
    "\n",
    "    # get confusion matrix\n",
    "    from sklearn.metrics import confusion_matrix\n",
    "    import matplotlib.pyplot as plt\n",
    "    import seaborn as sns\n",
    "\n",
    "    # print accuracy score\n",
    "    print(f'Accuracy score: {accuracy_score(y_val, y_pred)}')\n",
    "\n",
    "    sns.set(font_scale=1.5)\n",
    "    sns.set_style('whitegrid')\n",
    "    plt.figure(figsize=(4, 4))\n",
    "    sns.heatmap(confusion_matrix(y_val, y_pred), annot=True, fmt='g', cmap='Blues', cbar=False)\n",
    "    plt.xlabel('Predicted')\n",
    "    plt.ylabel('Actual')\n",
    "    plt.show()\n",
    "\n",
    "    return best_model\n",
    "\n",
    "def xgboost(X_train, y_train, X_val, y_val):\n",
    "    param_grid = {\n",
    "        'learning_rate': [0.01, 0.05, 0.1, 0.2, 0.3],\n",
    "        'max_depth': [3, 4, 5, 6, 8, 10, 12, 15],\n",
    "        'min_child_weight': [1, 3, 5, 7],\n",
    "        'gamma': [0.0, 0.1, 0.2, 0.3, 0.4],\n",
    "        'colsample_bytree': [0.3, 0.4, 0.5, 0.7]\n",
    "    }\n",
    "\n",
    "    xgb_clf = xgb.XGBClassifier(objective='multi:softmax', num_class=3, random_state=42)\n",
    "    xgb_random = RandomizedSearchCV(estimator=xgb_clf, param_distributions=param_grid, n_iter=50, cv=3, verbose=1,\n",
    "                                    random_state=42, n_jobs=-1)\n",
    "    xgb_random.fit(X_train, y_train)\n",
    "\n",
    "    # evaluate the best model\n",
    "    best_model = xgb_random.best_estimator_\n",
    "    y_pred = best_model.predict(X_val)\n",
    "    accuracy_score(y_val, y_pred)\n",
    "\n",
    "    # get confusion matrix\n",
    "    from sklearn.metrics import confusion_matrix\n",
    "    import matplotlib.pyplot as plt\n",
    "    import seaborn as sns\n",
    "\n",
    "    # print accuracy score\n",
    "    print(f'Accuracy score: {accuracy_score(y_val, y_pred)}')\n",
    "\n",
    "    sns.set(font_scale=1.5)\n",
    "    sns.set_style('whitegrid')\n",
    "    plt.figure(figsize=(4, 4))\n",
    "    sns.heatmap(confusion_matrix(y_val, y_pred), annot=True, fmt='g', cmap='Blues', cbar=False)\n",
    "    plt.xlabel('Predicted')\n",
    "    plt.ylabel('Actual')\n",
    "    plt.show()\n",
    "\n",
    "    return best_model\n",
    "\n",
    "# best_model = xgboost(X_train, y_train, X_val, y_val)\n",
    "best_model = forest(X_train, y_train, X_val, y_val)"
   ]
  },
  {
   "cell_type": "code",
   "execution_count": null,
   "metadata": {},
   "outputs": [],
   "source": [
    "# predict on test set\n",
    "y_test = best_model.predict(df_test.drop('RPAIR_main', axis=1))\n",
    "df_test['RPAIR_main'] = y_test\n",
    "display(df_test.head())\n",
    "print(df_test['RPAIR_main'].value_counts(normalize=True).round(2))"
   ]
  },
  {
   "cell_type": "code",
   "execution_count": null,
   "metadata": {},
   "outputs": [],
   "source": [
    "# concat df_train and df_test to df_final and sort by index\n",
    "df_final = pd.concat([df_train, df_test]).sort_index()\n",
    "\n",
    "print(df_final.shape, df.shape)"
   ]
  },
  {
   "cell_type": "code",
   "execution_count": null,
   "metadata": {},
   "outputs": [],
   "source": [
    "# read 'pairs_final_RPAIRS.csv'\n",
    "pairs = pd.read_csv('../data/pairs_final_RPAIRS.csv', index_col=0)\n",
    "\n",
    "# add 'RPAIR_main' column to 'pairs_final_RPAIRS.csv'\n",
    "pairs['RPAIR_main_pred'] = df_final['RPAIR_main'].values\n",
    "pairs.head()\n",
    "\n",
    "# save 'pairs_final_RPAIRS.csv'\n",
    "pairs.to_csv('../data/pairs_final_RPAIRS_pred.csv')"
   ]
  }
 ],
 "metadata": {
  "kernelspec": {
   "display_name": "main-bio",
   "language": "python",
   "name": "python3"
  },
  "language_info": {
   "codemirror_mode": {
    "name": "ipython",
    "version": 3
   },
   "file_extension": ".py",
   "mimetype": "text/x-python",
   "name": "python",
   "nbconvert_exporter": "python",
   "pygments_lexer": "ipython3",
   "version": "3.10.12"
  },
  "orig_nbformat": 4
 },
 "nbformat": 4,
 "nbformat_minor": 2
}
